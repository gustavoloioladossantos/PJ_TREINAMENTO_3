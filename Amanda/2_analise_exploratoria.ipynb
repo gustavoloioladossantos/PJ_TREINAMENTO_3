{
 "cells": [
  {
   "cell_type": "code",
   "execution_count": null,
   "metadata": {},
   "outputs": [],
   "source": [
    "import pandas as pd\n",
    "import numpy as np\n",
    "import matplotlib.pyplot as plt\n",
    "import seaborn as sns\n",
    "from collections import Counter\n",
    "\n",
    "import plotly.express as px\n",
    "from plotly.subplots import make_subplots\n",
    "import plotly.graph_objects as go\n",
    "from math import ceil"
   ]
  },
  {
   "cell_type": "code",
   "execution_count": null,
   "metadata": {},
   "outputs": [],
   "source": [
    "df = pd.read_csv('Dados_Com.csv', index_col=0)"
   ]
  },
  {
   "cell_type": "code",
   "execution_count": null,
   "metadata": {},
   "outputs": [],
   "source": [
    "'''# Contar a frequência de cada editora\n",
    "contagem_publisher = Counter(PublisherTotal['boardgamepublisher'])\n",
    "\n",
    "# Criar um DataFrame com a contagem\n",
    "df_contagem_publisher = pd.DataFrame({'Publisher': list(contagem_publisher.keys()), 'Contagem_publisher': list(contagem_publisher.values())})\n",
    "df_contagem_publisher.sort_values(by=\"Contagem_publisher\", ascending=False, inplace=True)\n",
    "\n",
    "# Criar o treemap\n",
    "fig = px.treemap(df_contagem_publisher.head(20), path=['Publisher'], values='Contagem_publisher',\n",
    "                 title='20 maiores editoras')\n",
    "fig.show()'''"
   ]
  },
  {
   "cell_type": "code",
   "execution_count": null,
   "metadata": {},
   "outputs": [],
   "source": [
    "df['total_time'] = df['order_metric_collected_time'] + df['order_metric_paused_time'] + df['order_metric_production_time'] + df['order_metric_walking_time'] + df['order_metric_expediton_speed_time'] + df['order_metric_transit_time'] + df['order_metric_cycle_time']"
   ]
  },
  {
   "cell_type": "code",
   "execution_count": null,
   "metadata": {},
   "outputs": [],
   "source": [
    "# Agrupando o DataFrame pelas cidades e seus estados correspondentes\n",
    "grouped_data = df.groupby(['hub_city', 'hub_state']).size().reset_index(name='Count')\n",
    "\n",
    "# Criando o treemap\n",
    "fig = px.treemap(grouped_data, path=['hub_state', 'hub_city'], values='Count',\n",
    "                 title='Cidades em que Hack Eats está presente')\n",
    "fig.show()"
   ]
  },
  {
   "cell_type": "code",
   "execution_count": null,
   "metadata": {},
   "outputs": [],
   "source": [
    "# Definindo os limites dos intervalos\n",
    "limites = [0, 500, 1000, 1500, 2000, 2500, 3000, 3500, 4000, 4500, 5000, float('inf')]\n",
    "\n",
    "# Definindo os rótulos para cada intervalo\n",
    "rotulos = ['0-500', '500-1000', '1000-1500', '1500-2000', '2000-2500', '2500-3000', '3000-3500', '3500-4000', '4000-4500', '4500-5000', '>5000']\n",
    "\n",
    "# Criando a nova coluna 'distance_range' com base nos intervalos definidos\n",
    "df['distance_range'] = pd.cut(df['delivery_distance_meters'], bins=limites, labels=rotulos, right=False)\n",
    "\n",
    "# Calculando a contagem de linhas para cada 'distance_range'\n",
    "contagem_por_distancia = df.groupby(['distance_range', 'delivery_status']).size().reset_index(name='count')\n",
    "\n",
    "# Criando o gráfico de barras com a contagem de linhas por 'distance_range' e 'delivery_status'\n",
    "fig = px.bar(contagem_por_distancia, x='distance_range', y='count', color='delivery_status', \n",
    "             title='Status em função da distância')\n",
    "fig.show()"
   ]
  },
  {
   "cell_type": "markdown",
   "metadata": {},
   "source": [
    "A distância não afeta o cancelamento"
   ]
  },
  {
   "cell_type": "code",
   "execution_count": null,
   "metadata": {},
   "outputs": [],
   "source": [
    "# Calculando a contagem de linhas para cada 'channel_type'\n",
    "contagem_por_canal = df.groupby(['channel_type', 'driver_type']).size().reset_index(name='count')\n",
    "\n",
    "fig = px.histogram(contagem_por_canal, x='channel_type', y='count', color='driver_type', barmode='group')\n",
    "fig.show()"
   ]
  },
  {
   "cell_type": "code",
   "execution_count": null,
   "metadata": {},
   "outputs": [],
   "source": [
    "# Calculando a contagem de linhas para cada 'channel_type' e 'driver_type'\n",
    "contagem_por_canal = df.groupby(['channel_type', 'driver_type']).size().reset_index(name='count')\n",
    "\n",
    "# Normalizando os valores para porcentagem\n",
    "contagem_por_canal['percentage'] = contagem_por_canal.groupby('channel_type')['count'].transform(lambda x: x / x.sum() * 100)\n",
    "\n",
    "# Criando o gráfico de histograma com porcentagens\n",
    "fig = px.histogram(contagem_por_canal, x='channel_type', y='percentage', color='driver_type', \n",
    "                   barmode='group', histfunc='sum', title='Porcentagem por canal e tipo de motorista')\n",
    "fig.update_yaxes(title='Porcentagem')\n",
    "\n",
    "fig.show()"
   ]
  },
  {
   "cell_type": "markdown",
   "metadata": {},
   "source": [
    "Não importa o tipo de canal, a proporção do tipo de motorista é a mesma"
   ]
  },
  {
   "cell_type": "code",
   "execution_count": null,
   "metadata": {},
   "outputs": [],
   "source": [
    "fig = px.scatter(df, x='delivery_distance_meters', y='total_time', title = 'Distancia por tempo de entrega')\n",
    "fig.show()"
   ]
  },
  {
   "cell_type": "markdown",
   "metadata": {},
   "source": [
    "O esperado era que o tempo total aumentasse linearmente com a distancia, mas nao foi o que aconteceu"
   ]
  },
  {
   "cell_type": "code",
   "execution_count": null,
   "metadata": {},
   "outputs": [],
   "source": [
    "# Calculando a contagem de linhas para cada 'driver_modal'\n",
    "contagem_por_modal = df.groupby(['driver_modal', 'hub_city']).size().reset_index(name='count')\n",
    "\n",
    "fig = px.histogram(contagem_por_modal, x='hub_city', y='count', color='driver_modal', barmode='group')\n",
    "fig.show()"
   ]
  },
  {
   "cell_type": "code",
   "execution_count": null,
   "metadata": {},
   "outputs": [],
   "source": [
    "# Agrupando o DataFrame pelos modos de pagamentos\n",
    "grouped_payment_method = df.groupby(['payment_method', 'delivery_status']).size().reset_index(name='Count')\n",
    "\n",
    "# Criando o treemap\n",
    "fig = px.treemap(grouped_payment_method, path=['payment_method'], values='Count',\n",
    "                 title='Tipos de pagamentos')\n",
    "fig.show()\n",
    "\n",
    "# Normalizando os valores para porcentagem\n",
    "grouped_payment_method['percentage'] = grouped_payment_method.groupby('payment_method')['Count'].transform(lambda x: x / x.sum() * 100)\n",
    "\n",
    "# Criando o gráfico de histograma com porcentagens\n",
    "fig = px.histogram(grouped_payment_method, x='payment_method', y='percentage', color='delivery_status', barmode='group', histfunc='sum', title='Porcentagem por metodo de pagamento e status de entrega')\n",
    "fig.update_yaxes(title='Porcentagem')\n",
    "fig.show()"
   ]
  },
  {
   "cell_type": "markdown",
   "metadata": {},
   "source": [
    "Todas as entregas que foram pagas forma entregues"
   ]
  },
  {
   "cell_type": "code",
   "execution_count": null,
   "metadata": {},
   "outputs": [],
   "source": [
    "fig = px.histogram(df, x='store_name', y='order_metric_cycle_time', title='Distribuição de order_metric_cycle_time por store_name', histfunc='avg')\n",
    "fig.show()"
   ]
  },
  {
   "cell_type": "code",
   "execution_count": null,
   "metadata": {},
   "outputs": [],
   "source": [
    "fig = px.histogram(df, x='driver_type', y='order_metric_cycle_time', title='Distribuição de order_metric_cycle_time por driver_type', histfunc='avg')\n",
    "\n",
    "fig.show()"
   ]
  },
  {
   "cell_type": "code",
   "execution_count": null,
   "metadata": {},
   "outputs": [],
   "source": [
    "fig = px.histogram(df, x='payment_fee', y='order_metric_cycle_time', title='Distribuição de order_metric_cycle_time por payment_fee', histfunc='avg')\n",
    "\n",
    "fig.show()"
   ]
  },
  {
   "cell_type": "code",
   "execution_count": null,
   "metadata": {},
   "outputs": [],
   "source": [
    "fig = px.histogram(df, x='payment_method', y='order_metric_cycle_time', title='Distribuição de order_metric_cycle_time por payment_method', histfunc='avg')\n",
    "\n",
    "fig.show()"
   ]
  },
  {
   "cell_type": "code",
   "execution_count": null,
   "metadata": {},
   "outputs": [],
   "source": [
    "fig = px.histogram(df, x='channel_name', y='order_metric_cycle_time', title='Distribuição de order_metric_cycle_time por channel_name', histfunc='avg')\n",
    "\n",
    "fig.show()"
   ]
  },
  {
   "cell_type": "code",
   "execution_count": null,
   "metadata": {},
   "outputs": [],
   "source": [
    "fig = px.histogram(df, x='order_delivery_fee', y='order_metric_cycle_time', title='Distribuição de order_metric_cycle_time por order_delivery_fee', histfunc='avg')\n",
    "\n",
    "fig.show()"
   ]
  }
 ],
 "metadata": {
  "kernelspec": {
   "display_name": "base",
   "language": "python",
   "name": "python3"
  },
  "language_info": {
   "codemirror_mode": {
    "name": "ipython",
    "version": 3
   },
   "file_extension": ".py",
   "mimetype": "text/x-python",
   "name": "python",
   "nbconvert_exporter": "python",
   "pygments_lexer": "ipython3",
   "version": "3.11.4"
  }
 },
 "nbformat": 4,
 "nbformat_minor": 2
}
