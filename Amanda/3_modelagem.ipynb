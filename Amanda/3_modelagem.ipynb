{
 "cells": [
  {
   "cell_type": "markdown",
   "metadata": {},
   "source": [
    "# Modelagem #\n"
   ]
  },
  {
   "cell_type": "code",
   "execution_count": 15,
   "metadata": {},
   "outputs": [],
   "source": [
    "import pandas as pd\n",
    "import numpy as np\n",
    "\n",
    "from sklearn.linear_model import LinearRegression\n",
    "from sklearn.model_selection import train_test_split\n",
    "from sklearn.metrics import mean_squared_error\n",
    "from sklearn.linear_model import LogisticRegression\n",
    "from sklearn.metrics import accuracy_score, confusion_matrix, precision_score, recall_score, f1_score\n",
    "\n",
    "\n",
    "df1 = pd.read_csv('Dados_Sem.csv', index_col=0)\n",
    "df2 = pd.read_csv('Dados_Com.csv', index_col=0)\n"
   ]
  },
  {
   "cell_type": "code",
   "execution_count": 16,
   "metadata": {},
   "outputs": [],
   "source": [
    "df2['order_date'] = pd.to_datetime(df2['order_date'])\n",
    "#df_date = df.copy()\n",
    "\n",
    "# Criando colunas para facilitar análises\n",
    "df2['minute'] = df2['order_date'].dt.minute\n",
    "df2['hour'] = df2['order_date'].dt.hour\n",
    "df2['day'] = df2['order_date'].dt.day\n",
    "df2['month'] = df2['order_date'].dt.month\n",
    "df2['year'] = df2['order_date'].dt.year\n",
    "df2['weekday'] = df2['order_date'].dt.weekday # Domingo é 0"
   ]
  },
  {
   "cell_type": "code",
   "execution_count": 17,
   "metadata": {},
   "outputs": [
    {
     "name": "stdout",
     "output_type": "stream",
     "text": [
      "MSE (Mean Squared Error): 3992.012079973804\n",
      "RMSE (Root Mean Squared Error): 63.182371591875246\n"
     ]
    }
   ],
   "source": [
    "# Definir as variáveis independentes (características)\n",
    "X = df2[['hub_name', 'hub_state', 'store_name', 'hour', 'weekday', 'delivery_distance_meters', 'payment_method', 'channel_name', 'channel_type', 'order_delivery_fee']] \n",
    "X_encoded = pd.get_dummies(X, columns=['hub_name', 'hub_state', 'store_name', 'payment_method', 'channel_name', 'channel_type'])\n",
    "X_not_encoded =df2[['hour', 'weekday', 'delivery_distance_meters','order_delivery_fee']]\n",
    "\n",
    "# Definir a variável dependente (o que você quer prever)\n",
    "y = df2['order_metric_cycle_time']\n",
    "\n",
    "# Dividir os dados em conjuntos de treino e teste para variáveis codificadas\n",
    "X_train_encoded, X_test_encoded, y_train, y_test = train_test_split(X_encoded, y, test_size=0.2, random_state=42)\n",
    "\n",
    "# Supondo que X_not_encoded são as variáveis que não passaram pelo Dummy Encoding\n",
    "X_train_not_encoded, X_test_not_encoded, _, _ = train_test_split(X_not_encoded, y, test_size=0.2, random_state=42)\n",
    "\n",
    "# Concatenar as colunas das variáveis codificadas e não codificadas\n",
    "X_train = pd.concat([X_train_encoded, X_train_not_encoded], axis=1)\n",
    "X_test = pd.concat([X_test_encoded, X_test_not_encoded], axis=1)\n",
    "\n",
    "# Instanciar o modelo de regressão linear\n",
    "model = LinearRegression()\n",
    "\n",
    "# Treinar o modelo\n",
    "model.fit(X_train, y_train)\n",
    "\n",
    "# Fazer previsões no conjunto de teste\n",
    "predictions = model.predict(X_test)\n",
    "\n",
    "# Avaliar o desempenho do modelo\n",
    "mse = mean_squared_error(y_test, predictions)\n",
    "rmse = np.sqrt(mse)\n",
    "print(f'MSE (Mean Squared Error): {mse}')\n",
    "print(f'RMSE (Root Mean Squared Error): {rmse}')"
   ]
  },
  {
   "cell_type": "code",
   "execution_count": 19,
   "metadata": {},
   "outputs": [
    {
     "name": "stderr",
     "output_type": "stream",
     "text": [
      "c:\\Users\\amand\\Anaconda\\Lib\\site-packages\\sklearn\\linear_model\\_logistic.py:460: ConvergenceWarning: lbfgs failed to converge (status=1):\n",
      "STOP: TOTAL NO. of ITERATIONS REACHED LIMIT.\n",
      "\n",
      "Increase the number of iterations (max_iter) or scale the data as shown in:\n",
      "    https://scikit-learn.org/stable/modules/preprocessing.html\n",
      "Please also refer to the documentation for alternative solver options:\n",
      "    https://scikit-learn.org/stable/modules/linear_model.html#logistic-regression\n",
      "  n_iter_i = _check_optimize_result(\n"
     ]
    },
    {
     "name": "stdout",
     "output_type": "stream",
     "text": [
      "Acurácia: 0.9269615470104468\n",
      "Matriz de Confusão:\n",
      "[[62556     0     0]\n",
      " [   96     0     0]\n",
      " [ 4833     0     0]]\n"
     ]
    },
    {
     "name": "stderr",
     "output_type": "stream",
     "text": [
      "c:\\Users\\amand\\Anaconda\\Lib\\site-packages\\sklearn\\metrics\\_classification.py:1469: UndefinedMetricWarning: Precision is ill-defined and being set to 0.0 in labels with no predicted samples. Use `zero_division` parameter to control this behavior.\n",
      "  _warn_prf(average, modifier, msg_start, len(result))\n"
     ]
    },
    {
     "name": "stdout",
     "output_type": "stream",
     "text": [
      "Precisão por classe:\n",
      "[0.92696155 0.         0.        ]\n",
      "Recall por classe:\n",
      "[1. 0. 0.]\n",
      "F1-score por classe:\n",
      "[0.96209657 0.         0.        ]\n"
     ]
    }
   ],
   "source": [
    "# Criando faixas para categorizar o tempo de ciclo\n",
    "df2['cycle_time_category'] = pd.cut(df2['order_metric_cycle_time'], bins=3, labels=['curto', 'médio', 'longo'])\n",
    "\n",
    "# Definir as variáveis independentes (características)\n",
    "X = df2[['hub_name', 'hub_state', 'store_name', 'hour', 'weekday', 'delivery_distance_meters', 'payment_method', 'channel_name', 'channel_type', 'order_delivery_fee']] \n",
    "X_encoded = pd.get_dummies(X, columns=['hub_name', 'hub_state', 'store_name', 'payment_method', 'channel_name', 'channel_type'])\n",
    "X_not_encoded = df2[['hour', 'weekday', 'delivery_distance_meters', 'order_delivery_fee']]\n",
    "\n",
    "# Definir a variável dependente (o que você quer prever)\n",
    "y = df2['cycle_time_category']  # Usar a categoria de tempo de ciclo\n",
    "\n",
    "# Dividir os dados em conjuntos de treino e teste\n",
    "X_train_encoded, X_test_encoded, y_train, y_test = train_test_split(X_encoded, y, test_size=0.2, random_state=42)\n",
    "X_train_not_encoded, X_test_not_encoded, _, _ = train_test_split(X_not_encoded, y, test_size=0.2, random_state=42)\n",
    "\n",
    "# Concatenar as colunas das variáveis codificadas e não codificadas\n",
    "X_train = pd.concat([X_train_encoded, X_train_not_encoded], axis=1)\n",
    "X_test = pd.concat([X_test_encoded, X_test_not_encoded], axis=1)\n",
    "\n",
    "# Instanciar o modelo de regressão logística\n",
    "model = LogisticRegression()\n",
    "\n",
    "# Treinar o modelo\n",
    "model.fit(X_train, y_train)\n",
    "\n",
    "# Fazer previsões no conjunto de teste\n",
    "predictions = model.predict(X_test)\n",
    "\n",
    "# Calcular a acurácia do modelo\n",
    "accuracy = accuracy_score(y_test, predictions)\n",
    "print(f'Acurácia: {accuracy}')\n",
    "\n",
    "# Calcular a matriz de confusão\n",
    "conf_matrix = confusion_matrix(y_test, predictions)\n",
    "print(f'Matriz de Confusão:\\n{conf_matrix}')\n",
    "\n",
    "# Calcular a precisão para cada classe\n",
    "precision = precision_score(y_test, predictions, average=None, labels=['curto', 'médio', 'longo'])\n",
    "print(f'Precisão por classe:\\n{precision}')\n",
    "\n",
    "# Calcular o recall para cada classe\n",
    "recall = recall_score(y_test, predictions, average=None, labels=['curto', 'médio', 'longo'])\n",
    "print(f'Recall por classe:\\n{recall}')\n",
    "\n",
    "# Calcular o F1-score para cada classe\n",
    "f1 = f1_score(y_test, predictions, average=None, labels=['curto', 'médio', 'longo'])\n",
    "print(f'F1-score por classe:\\n{f1}')"
   ]
  },
  {
   "cell_type": "markdown",
   "metadata": {},
   "source": [
    "Preve bem 92-100% de cycle menores, ciclos medios e longos preve 0%\n",
    "Sera que aqui entre o fato que normalmente ciclos longos sao outliers?"
   ]
  },
  {
   "cell_type": "code",
   "execution_count": null,
   "metadata": {},
   "outputs": [],
   "source": []
  }
 ],
 "metadata": {
  "kernelspec": {
   "display_name": "base",
   "language": "python",
   "name": "python3"
  },
  "language_info": {
   "codemirror_mode": {
    "name": "ipython",
    "version": 3
   },
   "file_extension": ".py",
   "mimetype": "text/x-python",
   "name": "python",
   "nbconvert_exporter": "python",
   "pygments_lexer": "ipython3",
   "version": "3.11.4"
  }
 },
 "nbformat": 4,
 "nbformat_minor": 2
}
