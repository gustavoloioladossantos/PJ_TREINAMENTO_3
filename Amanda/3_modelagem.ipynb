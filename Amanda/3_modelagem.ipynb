{
 "cells": [
  {
   "cell_type": "markdown",
   "metadata": {},
   "source": [
    "# Modelagem #\n"
   ]
  },
  {
   "cell_type": "code",
   "execution_count": 5,
   "metadata": {},
   "outputs": [],
   "source": [
    "import pandas as pd\n",
    "import numpy as np\n",
    "\n",
    "from sklearn.linear_model import LinearRegression\n",
    "from sklearn.model_selection import train_test_split\n",
    "from sklearn.metrics import mean_squared_error, mean_absolute_error, r2_score\n",
    "#from sklearn.linear_model import LogisticRegression\n",
    "#from sklearn.metrics import accuracy_score, confusion_matrix, precision_score, recall_score, f1_score\n",
    "from sklearn.neural_network import MLPRegressor\n",
    "\n",
    "#df1 = pd.read_csv('Dados_Sem.csv', index_col=0)\n",
    "#df2 = pd.read_csv('Dados_Com.csv', index_col=0)\n"
   ]
  },
  {
   "cell_type": "code",
   "execution_count": 7,
   "metadata": {},
   "outputs": [],
   "source": [
    "df2['order_date'] = pd.to_datetime(df2['order_date'])\n",
    "#df_date = df.copy()\n",
    "\n",
    "# Criando colunas para facilitar análises\n",
    "df2['minute'] = df2['order_date'].dt.minute\n",
    "df2['hour'] = df2['order_date'].dt.hour\n",
    "df2['day'] = df2['order_date'].dt.day\n",
    "df2['month'] = df2['order_date'].dt.month\n",
    "df2['year'] = df2['order_date'].dt.year\n",
    "df2['weekday'] = df2['order_date'].dt.weekday # Domingo é 0"
   ]
  },
  {
   "cell_type": "code",
   "execution_count": 8,
   "metadata": {},
   "outputs": [
    {
     "name": "stdout",
     "output_type": "stream",
     "text": [
      "MSE:3992.012079973804 | RMSE:63.182371591875246 | MAE:10.054667471004835 | R2:-20.06691928699544\n"
     ]
    }
   ],
   "source": [
    "# Definir as variáveis independentes (características)\n",
    "X = df2[['hub_name', 'hub_state', 'store_name', 'hour', 'weekday', 'delivery_distance_meters', 'payment_method', 'channel_name', 'channel_type', 'order_delivery_fee']] \n",
    "X_encoded = pd.get_dummies(X, columns=['hub_name', 'hub_state', 'store_name', 'payment_method', 'channel_name', 'channel_type'])\n",
    "X_not_encoded =df2[['hour', 'weekday', 'delivery_distance_meters','order_delivery_fee']]\n",
    "\n",
    "# Definir a variável dependente (o que você quer prever)\n",
    "y = df2['order_metric_cycle_time']\n",
    "\n",
    "# Dividir os dados em conjuntos de treino e teste para variáveis codificadas\n",
    "X_train_encoded, X_test_encoded, y_train, y_test = train_test_split(X_encoded, y, test_size=0.2, random_state=42)\n",
    "\n",
    "# Supondo que X_not_encoded são as variáveis que não passaram pelo Dummy Encoding\n",
    "X_train_not_encoded, X_test_not_encoded, _, _ = train_test_split(X_not_encoded, y, test_size=0.2, random_state=42)\n",
    "\n",
    "# Concatenar as colunas das variáveis codificadas e não codificadas\n",
    "X_train = pd.concat([X_train_encoded, X_train_not_encoded], axis=1)\n",
    "X_test = pd.concat([X_test_encoded, X_test_not_encoded], axis=1)\n",
    "\n",
    "# Instanciar o modelo de regressão linear\n",
    "model = LinearRegression()\n",
    "\n",
    "# Treinar o modelo\n",
    "model.fit(X_train, y_train)\n",
    "\n",
    "# Fazer previsões no conjunto de teste\n",
    "predictions = model.predict(X_test)\n",
    "\n",
    "# Avaliar o desempenho do modelo\n",
    "mse = mean_squared_error(y_test, predictions)\n",
    "rmse = np.sqrt(mse)\n",
    "mae = mean_absolute_error(y_test,predictions)\n",
    "r2 = r2_score(y_test, predictions)\n",
    "print(f'MSE:{mse} | RMSE:{rmse} | MAE:{mae} | R2:{r2}')"
   ]
  },
  {
   "cell_type": "code",
   "execution_count": 11,
   "metadata": {},
   "outputs": [
    {
     "name": "stderr",
     "output_type": "stream",
     "text": [
      "c:\\Users\\amand\\Anaconda\\Lib\\site-packages\\sklearn\\neural_network\\_multilayer_perceptron.py:698: UserWarning: Training interrupted by user.\n",
      "  warnings.warn(\"Training interrupted by user.\")\n"
     ]
    },
    {
     "name": "stdout",
     "output_type": "stream",
     "text": [
      "MSE:156.28973940409932 | RMSE:12.501589475106728 | MAE:9.667579750377714 | R2:0.17521709367339444\n"
     ]
    }
   ],
   "source": [
    "#Criar e treinar o modelo de Rede Neural\n",
    "model = MLPRegressor(hidden_layer_sizes=(50, 25), activation='relu', solver='adam', random_state=42)\n",
    "model.fit(X_train, y_train)\n",
    "\n",
    "# Fazer previsões no conjunto de teste\n",
    "predictions = model.predict(X_test)\n",
    "\n",
    "# Avaliar o desempenho do modelo\n",
    "mse = mean_squared_error(y_test, predictions)\n",
    "rmse = np.sqrt(mse)\n",
    "mae = mean_absolute_error(y_test,predictions)\n",
    "r2 = r2_score(y_test, predictions)\n",
    "print(f'MSE:{mse} | RMSE:{rmse} | MAE:{mae} | R2:{r2}')"
   ]
  },
  {
   "cell_type": "code",
   "execution_count": null,
   "metadata": {},
   "outputs": [],
   "source": []
  }
 ],
 "metadata": {
  "kernelspec": {
   "display_name": "base",
   "language": "python",
   "name": "python3"
  },
  "language_info": {
   "codemirror_mode": {
    "name": "ipython",
    "version": 3
   },
   "file_extension": ".py",
   "mimetype": "text/x-python",
   "name": "python",
   "nbconvert_exporter": "python",
   "pygments_lexer": "ipython3",
   "version": "3.11.4"
  }
 },
 "nbformat": 4,
 "nbformat_minor": 2
}
