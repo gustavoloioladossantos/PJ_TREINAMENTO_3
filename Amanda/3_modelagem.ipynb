{
 "cells": [
  {
   "cell_type": "markdown",
   "metadata": {},
   "source": [
    "# Modelagem #\n"
   ]
  },
  {
   "cell_type": "code",
   "execution_count": 7,
   "metadata": {},
   "outputs": [],
   "source": [
    "import pandas as pd\n",
    "import numpy as np\n",
    "\n",
    "from sklearn.linear_model import LinearRegression\n",
    "from sklearn.model_selection import train_test_split\n",
    "from sklearn.metrics import mean_squared_error, mean_absolute_error, r2_score\n",
    "#from sklearn.linear_model import LogisticRegression\n",
    "#from sklearn.metrics import accuracy_score, confusion_matrix, precision_score, recall_score, f1_score\n",
    "from sklearn.neural_network import MLPRegressor\n"
   ]
  },
  {
   "cell_type": "code",
   "execution_count": 13,
   "metadata": {},
   "outputs": [],
   "source": [
    "df1 = pd.read_csv('base_limpa1.csv', index_col=0)\n",
    "df2 = pd.read_csv('base_limpa2.csv', index_col=0)\n",
    "\n",
    "df = pd.concat([df1, df2])\n",
    "df = df.dropna()"
   ]
  },
  {
   "cell_type": "code",
   "execution_count": 14,
   "metadata": {},
   "outputs": [],
   "source": [
    "df['order_date'] = pd.to_datetime(df['order_date'])\n",
    "#df_date = df.copy()\n",
    "\n",
    "# Criando colunas para facilitar análises\n",
    "df['minute'] = df['order_date'].dt.minute\n",
    "df['hour'] = df['order_date'].dt.hour\n",
    "df['day'] = df['order_date'].dt.day\n",
    "df['month'] = df['order_date'].dt.month\n",
    "df['year'] = df['order_date'].dt.year\n",
    "df['weekday'] = df['order_date'].dt.weekday # Domingo é 0"
   ]
  },
  {
   "cell_type": "code",
   "execution_count": 15,
   "metadata": {},
   "outputs": [
    {
     "name": "stdout",
     "output_type": "stream",
     "text": [
      "MSE:129.56513792479703 | RMSE:11.382668313044926 | MAE:9.027099162919425 | R2:0.20625888632496048\n"
     ]
    }
   ],
   "source": [
    "# Definir as variáveis independentes (características)\n",
    "X = df[['hub_name', 'hub_state', 'store_name', 'hour', 'weekday', 'delivery_distance_meters', 'payment_method', 'channel_name', 'channel_type', 'order_delivery_fee']] \n",
    "X_encoded = pd.get_dummies(X, columns=['hub_name', 'hub_state', 'store_name', 'payment_method', 'channel_name', 'channel_type'])\n",
    "X_not_encoded =df[['hour', 'weekday', 'delivery_distance_meters','order_delivery_fee']]\n",
    "\n",
    "# Definir a variável dependente (o que você quer prever)\n",
    "y = df['order_metric_cycle_time']\n",
    "\n",
    "# Dividir os dados em conjuntos de treino e teste para variáveis codificadas\n",
    "X_train_encoded, X_test_encoded, y_train, y_test = train_test_split(X_encoded, y, test_size=0.2, random_state=42)\n",
    "\n",
    "# Supondo que X_not_encoded são as variáveis que não passaram pelo Dummy Encoding\n",
    "X_train_not_encoded, X_test_not_encoded, _, _ = train_test_split(X_not_encoded, y, test_size=0.2, random_state=42)\n",
    "\n",
    "# Concatenar as colunas das variáveis codificadas e não codificadas\n",
    "X_train = pd.concat([X_train_encoded, X_train_not_encoded], axis=1)\n",
    "X_test = pd.concat([X_test_encoded, X_test_not_encoded], axis=1)\n",
    "\n",
    "# Instanciar o modelo de regressão linear\n",
    "model = LinearRegression()\n",
    "\n",
    "# Treinar o modelo\n",
    "model.fit(X_train, y_train)\n",
    "\n",
    "# Fazer previsões no conjunto de teste\n",
    "predictions = model.predict(X_test)\n",
    "\n",
    "# Avaliar o desempenho do modelo\n",
    "mse = mean_squared_error(y_test, predictions)\n",
    "rmse = np.sqrt(mse)\n",
    "mae = mean_absolute_error(y_test,predictions)\n",
    "r2 = r2_score(y_test, predictions)\n",
    "print(f'MSE:{mse} | RMSE:{rmse} | MAE:{mae} | R2:{r2}')"
   ]
  },
  {
   "cell_type": "code",
   "execution_count": 17,
   "metadata": {},
   "outputs": [
    {
     "name": "stdout",
     "output_type": "stream",
     "text": [
      "MSE:127.08580364592987 | RMSE:11.273233947981824 | MAE:8.975476818472968 | R2:0.22144776801953292\n"
     ]
    }
   ],
   "source": [
    "#Criar e treinar o modelo de Neural Regression\n",
    "model = MLPRegressor(hidden_layer_sizes=(200, 100), activation='relu', solver='adam', random_state=42)\n",
    "model.fit(X_train, y_train)\n",
    "\n",
    "# Fazer previsões no conjunto de teste\n",
    "predictions = model.predict(X_test)\n",
    "\n",
    "# Avaliar o desempenho do modelo\n",
    "mse = mean_squared_error(y_test, predictions)\n",
    "rmse = np.sqrt(mse)\n",
    "mae = mean_absolute_error(y_test,predictions)\n",
    "r2 = r2_score(y_test, predictions)\n",
    "print(f'MSE:{mse} | RMSE:{rmse} | MAE:{mae} | R2:{r2}')"
   ]
  }
 ],
 "metadata": {
  "kernelspec": {
   "display_name": "base",
   "language": "python",
   "name": "python3"
  },
  "language_info": {
   "codemirror_mode": {
    "name": "ipython",
    "version": 3
   },
   "file_extension": ".py",
   "mimetype": "text/x-python",
   "name": "python",
   "nbconvert_exporter": "python",
   "pygments_lexer": "ipython3",
   "version": "3.11.4"
  }
 },
 "nbformat": 4,
 "nbformat_minor": 2
}
