{
 "cells": [
  {
   "cell_type": "markdown",
   "metadata": {},
   "source": [
    "# Documentento destinado a anotar informações relevantes às bases"
   ]
  },
  {
   "cell_type": "markdown",
   "metadata": {},
   "source": [
    "## CHANNELS"
   ]
  },
  {
   "cell_type": "markdown",
   "metadata": {},
   "source": [
    "Este dataset possui informações sobre os canais de venda (marketplaces) onde são vendidos os good e food de nossos lojistas.\n",
    "\n",
    "shape: (40,3)"
   ]
  },
  {
   "cell_type": "markdown",
   "metadata": {},
   "source": [
    "| Nome da Feature   | Descrição      |\n",
    "|-------------------|----------------|\n",
    "| channel_id          | [int] id do canal    |\n",
    "| channel_name         | [string] nome do canal     |\n",
    "| channel_type    | [string] tipo do canal (OWNCHANNEL ou MARKETPLACE)  |"
   ]
  },
  {
   "cell_type": "markdown",
   "metadata": {},
   "source": [
    "## DELIVERIES"
   ]
  },
  {
   "cell_type": "markdown",
   "metadata": {},
   "source": [
    "Este dataset possui informações sobre as entregas realizadas por nossos entregadores parceiros.\n",
    "\n",
    "shape: (378843, 5)"
   ]
  },
  {
   "cell_type": "markdown",
   "metadata": {},
   "source": [
    "| Nome da Feature   | Descrição      |\n",
    "|-------------------|----------------|\n",
    "| delivery_id    | [int] id do pedido  |\n",
    "| delivery_order_id          | [int] id     |\n",
    "| driver_id           | [float] id do entregador (float só porque termina em .0)     |\n",
    "| delivery_distance_meters    | [float] distância da entrega em metros  |\n",
    "| delivery_status    | [string] situação da entrega (DELIVERED, CANCELLED, DELIVERING )  |\n"
   ]
  },
  {
   "cell_type": "markdown",
   "metadata": {},
   "source": [
    "obs: Há aprox. 16k entregadores sem ID (4,2% do total)\n",
    "\n",
    "obs2: Há 73 distâncias de entrega sem dados (0,02% do total)"
   ]
  },
  {
   "cell_type": "markdown",
   "metadata": {},
   "source": [
    "## DRIVERS"
   ]
  },
  {
   "cell_type": "markdown",
   "metadata": {},
   "source": [
    " Este dataset possui informações sobre os entregadores parceiros. Eles ficam em nossos hubs e toda vez que um pedido é processado, são eles fazem as entregas na casa dos consumidores.\n",
    "\n",
    "shape: (4824, 3)"
   ]
  },
  {
   "cell_type": "markdown",
   "metadata": {},
   "source": [
    "| Nome da Feature   | Descrição      |\n",
    "|-------------------|----------------|\n",
    "| driver_id    | [int] id do entregador  |\n",
    "| driver_modal          | [string] tipo de entregador por meio de transporte (MOTOBOY, BIKER)  |\n",
    "| driver_type           | [string] tipo de entregador por vínculo de trabalho (FREELANCE, LOGISTIC OPERATOR)    |"
   ]
  },
  {
   "cell_type": "markdown",
   "metadata": {},
   "source": [
    "## HUBS"
   ]
  },
  {
   "cell_type": "markdown",
   "metadata": {},
   "source": [
    " Este dataset possui informações sobre os hubs do Delivery Center. Entenda que os Hubs são os centros de distribuição dos pedidos e é dali que saem as entregas.\n",
    "\n",
    " shape: (32, 6)"
   ]
  },
  {
   "cell_type": "markdown",
   "metadata": {},
   "source": [
    "| Nome da Feature   | Descrição      |\n",
    "|-------------------|----------------|\n",
    "| hub_id    | [int] id do hub  |\n",
    "| hub_name          | [string] nome do hub (todos são SHOPPINGS)   |\n",
    "| hub_city           | [string] cidade que o hub está localizado   |\n",
    "| hub_state         | [string] estado que o hub está localizado |\n",
    "| hub_latitude          | [float] latitude do hub  |\n",
    "| hub_longitude        | [float] longitude do hub  |"
   ]
  },
  {
   "cell_type": "markdown",
   "metadata": {},
   "source": [
    "## ORDERS"
   ]
  },
  {
   "cell_type": "markdown",
   "metadata": {},
   "source": [
    "Este dataset possui informações sobre as vendas processadas através da plataforma do Delivery Center.\n",
    "\n",
    "shape: "
   ]
  },
  {
   "cell_type": "markdown",
   "metadata": {},
   "source": [
    "## PAYMENTS"
   ]
  },
  {
   "cell_type": "markdown",
   "metadata": {},
   "source": [
    "Este dataset possui informações sobre os pagamentos realizados ao Delivery Center.\n",
    "\n",
    "shape: "
   ]
  },
  {
   "cell_type": "markdown",
   "metadata": {},
   "source": [
    "## STORES"
   ]
  },
  {
   "cell_type": "markdown",
   "metadata": {},
   "source": [
    "Este dataset possui informações sobre os lojistas. Eles utilizam a Plataforma do Delivery Center para vender seus itens (good e/ou food) nos marketplaces.\n",
    "\n",
    "shape: "
   ]
  }
 ],
 "metadata": {
  "kernelspec": {
   "display_name": "Python 3",
   "language": "python",
   "name": "python3"
  },
  "language_info": {
   "codemirror_mode": {
    "name": "ipython",
    "version": 3
   },
   "file_extension": ".py",
   "mimetype": "text/x-python",
   "name": "python",
   "nbconvert_exporter": "python",
   "pygments_lexer": "ipython3",
   "version": "3.12.0"
  }
 },
 "nbformat": 4,
 "nbformat_minor": 2
}
