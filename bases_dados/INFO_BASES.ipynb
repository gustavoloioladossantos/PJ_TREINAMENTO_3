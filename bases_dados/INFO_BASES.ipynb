{
 "cells": [
  {
   "cell_type": "markdown",
   "metadata": {},
   "source": [
    "# Documento destinado a anotar informações relevantes às bases"
   ]
  },
  {
   "cell_type": "markdown",
   "metadata": {},
   "source": [
    "## CHANNELS"
   ]
  },
  {
   "cell_type": "markdown",
   "metadata": {},
   "source": [
    "Este dataset possui informações sobre os canais de venda (marketplaces) onde são vendidos os good e food de nossos lojistas.\n",
    "\n",
    "shape: (40,3)"
   ]
  },
  {
   "cell_type": "markdown",
   "metadata": {},
   "source": [
    "| Nome da Feature   | Descrição      |\n",
    "|-------------------|----------------|\n",
    "| channel_id          | [int] id do canal    |\n",
    "| channel_name         | [string] nome do canal     |\n",
    "| channel_type    | [string] tipo do canal (OWNCHANNEL ou MARKETPLACE)  |"
   ]
  },
  {
   "cell_type": "markdown",
   "metadata": {},
   "source": [
    "## DELIVERIES"
   ]
  },
  {
   "cell_type": "markdown",
   "metadata": {},
   "source": [
    "Este dataset possui informações sobre as entregas realizadas por nossos entregadores parceiros.\n",
    "\n",
    "shape: (378843, 5)"
   ]
  },
  {
   "cell_type": "markdown",
   "metadata": {},
   "source": [
    "| Nome da Feature   | Descrição      |\n",
    "|-------------------|----------------|\n",
    "| delivery_id    | [int] id do pedido  |\n",
    "| delivery_order_id          | [int] id     |\n",
    "| driver_id           | [float] id do entregador (float só porque termina em .0)     |\n",
    "| delivery_distance_meters    | [float] distância da entrega em metros  |\n",
    "| delivery_status    | [string] situação da entrega (DELIVERED, CANCELLED, DELIVERING )  |\n"
   ]
  },
  {
   "cell_type": "markdown",
   "metadata": {},
   "source": [
    "obs: Há aprox. 16k entregadores sem ID (4,2% do total)\n",
    "\n",
    "obs2: Há 73 distâncias de entrega sem dados (0,02% do total)"
   ]
  },
  {
   "cell_type": "markdown",
   "metadata": {},
   "source": [
    "## DRIVERS"
   ]
  },
  {
   "cell_type": "markdown",
   "metadata": {},
   "source": [
    " Este dataset possui informações sobre os entregadores parceiros. Eles ficam em nossos hubs e toda vez que um pedido é processado, são eles fazem as entregas na casa dos consumidores.\n",
    "\n",
    "shape: (4824, 3)"
   ]
  },
  {
   "cell_type": "markdown",
   "metadata": {},
   "source": [
    "| Nome da Feature   | Descrição      |\n",
    "|-------------------|----------------|\n",
    "| driver_id    | [int] id do entregador  |\n",
    "| driver_modal          | [string] tipo de entregador por meio de transporte (MOTOBOY, BIKER)  |\n",
    "| driver_type           | [string] tipo de entregador por vínculo de trabalho (FREELANCE, LOGISTIC OPERATOR)    |"
   ]
  },
  {
   "cell_type": "markdown",
   "metadata": {},
   "source": [
    "## HUBS"
   ]
  },
  {
   "cell_type": "markdown",
   "metadata": {},
   "source": [
    " Este dataset possui informações sobre os hubs do Delivery Center. Entenda que os Hubs são os centros de distribuição dos pedidos e é dali que saem as entregas.\n",
    "\n",
    " shape: (32, 6)"
   ]
  },
  {
   "cell_type": "markdown",
   "metadata": {},
   "source": [
    "| Nome da Feature   | Descrição      |\n",
    "|-------------------|----------------|\n",
    "| hub_id    | [int] id do hub  |\n",
    "| hub_name          | [string] nome do hub (todos são SHOPPINGS)   |\n",
    "| hub_city           | [string] cidade que o hub está localizado   |\n",
    "| hub_state         | [string] estado que o hub está localizado |\n",
    "| hub_latitude          | [float] latitude do hub  |\n",
    "| hub_longitude        | [float] longitude do hub  |"
   ]
  },
  {
   "cell_type": "markdown",
   "metadata": {},
   "source": [
    "## ORDERS"
   ]
  },
  {
   "cell_type": "markdown",
   "metadata": {},
   "source": [
    "Este dataset possui informações sobre as vendas processadas através da plataforma do Delivery Center.\n",
    "\n",
    "shape: (368999, 29)"
   ]
  },
  {
   "cell_type": "markdown",
   "metadata": {},
   "source": [
    "| Nome da Feature   | Descrição      |\n",
    "|-------------------|----------------|\n",
    "| order_id   | [int] id do pedido  |\n",
    "| store_id          | [int] id da loja   |\n",
    "| channel_id           | [int] id do canal   |\n",
    "| payment_order_id          | [int] id do pagamento do pedido |\n",
    "| delivery_order_id          | [int] id da entrega do pedido  |\n",
    "| order_status         | [string] status do pedido  |\n",
    "| order_amount   | [int] quantia total do pedido  |\n",
    "| order_delivery_fee         | [int] taxa de entrega do pedido   |\n",
    "| order_delivery_cost           | [float] custo de entrega do pedido   |\n",
    "| order_created_hour         | [int] hora de criação do pedido |\n",
    "| order_created_minute          | [int] minuto de criação do pedido  |\n",
    "| order_created_day    | [int] dia de criação do pedido  |\n",
    "| order_created_month        | [int] mês de criação do pedido   |\n",
    "| order_created_year          | [int] ano de criação do pedido   |\n",
    "| order_moment_created         | [float] momento de criação do pedido |\n",
    "| order_moment_accepted         | [float] momento de aceitação do pedido  |\n",
    "| order_moment_ready         | [float] momento que o pedido ficou pronto  |\n",
    "| order_moment_collected         | [float] momento de coleta do pedido  |\n",
    "| order_moment_in_expedition         | [float] momento que o pedido estava no trajeto de entrega  |\n",
    "| order_moment_delivering        | [float] momento que o pedido estava no trajeto de entrega  |\n",
    "| order_moment_delivered        | [float] momento que o pedido estava no trajeto de entrega  |\n",
    "| order_metric_collected_time          | [float]   |\n",
    "| order_metric_paused_time          | [float]   |\n",
    "| order_metric_production_time         | [float]   |\n",
    "| order_metric_walking_time      | [float]   |\n",
    "| order_metric_expediton_speed_time       | [float]   |\n",
    "| order_metric_transit_time         | [float]   |\n",
    "| order_metric_cycle_time      | [float]   |"
   ]
  },
  {
   "cell_type": "markdown",
   "metadata": {},
   "source": [
    "obs: pra definir o TEMPO DE ENTREGA, quais devem ser os 'momentos' necessários (por exemplo: seria a partir do momento que o cliente fez o pedido? A partir do momento que o estabelecimento aceitou fazer? Entrega acaba no 'order_moment_delivered' mesmo?)\n",
    "\n",
    "obs: todo os 'order_moment_ALGUMACOISA' possuem "
   ]
  },
  {
   "cell_type": "markdown",
   "metadata": {},
   "source": []
  },
  {
   "cell_type": "markdown",
   "metadata": {},
   "source": [
    "## PAYMENTS"
   ]
  },
  {
   "cell_type": "markdown",
   "metadata": {},
   "source": [
    "Este dataset possui informações sobre os pagamentos realizados ao Delivery Center.\n",
    "\n",
    "shape: (400834, 6)"
   ]
  },
  {
   "cell_type": "markdown",
   "metadata": {},
   "source": [
    "| Nome da Feature   | Descrição      |\n",
    "|-------------------|----------------|\n",
    "| payment_id          | [int] id de pagamento  |\n",
    "| payment_order_id            | [int] id de pagamento de pedido   |\n",
    "| payment_amount           | [float] quantia do pagamento   |\n",
    "| payment_fee         | [float] ****taxa do pagamento? essa taxa vai pra onde? |\n",
    "| payment_method          | [string] método de pagamento (15 tipos diferentes!!)  |\n",
    "| payment_status        | [string] situação do pagamento (PAID, CHARGEBACK, AWAITING)  |"
   ]
  },
  {
   "cell_type": "markdown",
   "metadata": {},
   "source": [
    "obs: 175 valores faltantes no payment_fee (0.04% do total)\n",
    "\n",
    "obs2: Há outliers relevantes no payment_fee e payment_amount"
   ]
  },
  {
   "cell_type": "markdown",
   "metadata": {},
   "source": [
    "## STORES"
   ]
  },
  {
   "cell_type": "markdown",
   "metadata": {},
   "source": [
    "Este dataset possui informações sobre os lojistas. Eles utilizam a Plataforma do Delivery Center para vender seus itens (good e/ou food) nos marketplaces.\n",
    "\n",
    "shape: (951, 7)"
   ]
  },
  {
   "cell_type": "markdown",
   "metadata": {},
   "source": [
    "| Nome da Feature   | Descrição      |\n",
    "|-------------------|----------------|\n",
    "| store_id          | [int] id do loja  |\n",
    "| hub_id            | [int] id do hub   |\n",
    "| store_name           | [string] nome da loja   |\n",
    "| store_segment         | [string] segmento da loja (FOOD, GOOD) |\n",
    "| store_plan_price          | [float] NAO SEIIIIIIIII  |\n",
    "| store_latitude        | [float] latitude do loja  |\n",
    "| store_longitude        | [float] longitude do loja  |"
   ]
  },
  {
   "cell_type": "markdown",
   "metadata": {},
   "source": [
    "obs: 'store_plan_price' tem 155 valores nulos (12% do total)\n",
    "\n",
    "obs2: tem apenas 16 lojas sem dados de latitude e longitude"
   ]
  }
 ],
 "metadata": {
  "kernelspec": {
   "display_name": "Python 3",
   "language": "python",
   "name": "python3"
  },
  "language_info": {
   "codemirror_mode": {
    "name": "ipython",
    "version": 3
   },
   "file_extension": ".py",
   "mimetype": "text/x-python",
   "name": "python",
   "nbconvert_exporter": "python",
   "pygments_lexer": "ipython3",
   "version": "3.12.0"
  }
 },
 "nbformat": 4,
 "nbformat_minor": 2
}
