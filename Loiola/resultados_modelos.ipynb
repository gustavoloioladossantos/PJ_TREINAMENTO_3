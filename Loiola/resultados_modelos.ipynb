{
 "cells": [
  {
   "cell_type": "markdown",
   "metadata": {},
   "source": [
    "|      | RandomForestRegressor 1 | RandomForestRegressor 2   |\n",
    "| -------- | ----- | ----------- |\n",
    "| n_estimators     | 500   | 100   |\n",
    "| max_depth    | None    | None |\n",
    "| max_features   | sqrt    | None |\n",
    "| RMSE   | 10.80624    | 10.52493 |\n",
    "| MAE   | 8.24499    | 8.15545 |"
   ]
  },
  {
   "cell_type": "markdown",
   "metadata": {},
   "source": [
    "|      | XGBRegressor 1 | XGBRegressor 2   | XGBRegressor 3 |\n",
    "| -------- | ----- | ----------- | ----------- |\n",
    "| booster  | gbtree   | gbtree   | gbtree |\n",
    "| n_estimators     | 600   | 1000   | 900\n",
    "| max_depth    | 10   | 10 | 12\n",
    "| learning_rate   | 0.8    | 0.05 | 0.05\n",
    "| eval_metric   | rmsle    | rmsle | None\n",
    "| gamma   | 0.2    | 0 | 0.3\n",
    "| n_jobs   | -1    | 1 | None\n",
    "| objective   | reg:squarederror    | reg:squarederror | reg:squarederror\n",
    "| reg_alpha   | 0.3   | 0 | 0.4\n",
    "| reg_lambda   | 0.1    | 1 | 0.1\n",
    "| sumbsample   | 1    | 1 | 0.9\n",
    "| random_state   | 0    | 0 | 0\n",
    "| RMSE   | 10.98    | 10.79 | 10.39\n",
    "| MAE   | 8.31    | 8.36 | 7.97"
   ]
  }
 ],
 "metadata": {
  "language_info": {
   "name": "python"
  }
 },
 "nbformat": 4,
 "nbformat_minor": 2
}
