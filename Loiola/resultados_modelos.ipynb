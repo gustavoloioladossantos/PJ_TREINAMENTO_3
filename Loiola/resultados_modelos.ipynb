{
 "cells": [
  {
   "cell_type": "markdown",
   "metadata": {},
   "source": [
    "|      | RandomForestRegressor 1 | RandomForestRegressor 2   |\n",
    "| -------- | ----- | ----------- |\n",
    "| n_estimators     | 500   | 100   |\n",
    "| max_depth    | None    | None |\n",
    "| max_features   | sqrt    | None |\n",
    "| RMSE   | 10.80624    | 10.52493 |\n",
    "| MAE   | 8.24499    | 8.15545 |"
   ]
  },
  {
   "cell_type": "markdown",
   "metadata": {},
   "source": [
    "|      | XGBRegressor 1 | XGBRegressor 2   | XGBRegressor 3 |\n",
    "| -------- | ----- | ----------- | ----------- |\n",
    "| booster  | gbtree   | gbtree   | gbtree\n",
    "| n_estimators     | 600   | 1000   |\n",
    "| max_depth    | 10   | 10 |\n",
    "| learning_rate   | 0.8    | 0.05 |\n",
    "| eval_metric   | rmsle    | rmse |\n",
    "| gamma   | 0.2    | 0 |\n",
    "| n_jobs   | -1    | 1 |\n",
    "| objective   | reg:squarederror    | reg:squarederror |\n",
    "| reg_alpha   | 0.3   | 0 |\n",
    "| reg_lambda   | 0.1    | 1 |\n",
    "| sumbsample   | 1    | 1 |\n",
    "| RMSE   | 10.98734    | 10.78883 |\n",
    "| MAE   | 8.31786    | 8.36738 |"
   ]
  }
 ],
 "metadata": {
  "language_info": {
   "name": "python"
  }
 },
 "nbformat": 4,
 "nbformat_minor": 2
}
