{
 "cells": [
  {
   "cell_type": "markdown",
   "metadata": {},
   "source": [
    "OK quantidade de pedidos baseado no horário do dia -> ajuda a entender horários de pico\n",
    "\n",
    "OK quantida de pedidos por dia da semana -> ajuda a entender demanda por dia da semana\n",
    "\n",
    "OK pedidos por estado -> ajuda a entender demanda\n",
    "\n",
    "tempo médio por estado -> ajuda a entender se o tempo de entrega está relacionado com a cidade do estabelecimento\n",
    "\n",
    "OK meios de pagamentos mais usados para pagar -> serve mais como um insight legal pra mostrar pro cliente\n",
    "\n",
    "OK separar pedidos por CANCELADO ou FEITO e analisar regiões onde mais ocorreram, horários e etc\n",
    "\n",
    "tempo médio por driver_type\n",
    "\n",
    "tempo médio por driver_modal\n",
    "\n",
    "pedidos por channel type\n",
    "\n",
    "diagrama de fluxo para visualizar hubs com maior cancelamento e delivered\n",
    "\n",
    "diagrama de fluxo para visualizar estados com maior cancelamento e delivered\n",
    "\n",
    "diagrama de fluxo para visualizar lojas com maior cancelamento e delivered"
   ]
  },
  {
   "cell_type": "markdown",
   "metadata": {},
   "source": [
    "# Funções"
   ]
  },
  {
   "cell_type": "code",
   "execution_count": null,
   "metadata": {},
   "outputs": [],
   "source": [
    "import pandas as pd\n",
    "import numpy as np\n",
    "import matplotlib.pyplot as plt\n",
    "import seaborn as sns\n",
    "\n",
    "import plotly.express as px\n",
    "from plotly.subplots import make_subplots\n",
    "import plotly.graph_objects as go\n",
    "from math import ceil  # Importar a função ceil\n",
    "\n",
    "pd.options.display.max_columns=50 \n",
    "pd.options.display.max_rows=80"
   ]
  },
  {
   "cell_type": "code",
   "execution_count": null,
   "metadata": {},
   "outputs": [],
   "source": [
    "def create_multiple_boxplots(data_frame, columns_for_boxplot, titles=None, num_boxplots_per_row=2):\n",
    "    # Calcular a quantidade;\n",
    "    num_boxplots = len(columns_for_boxplot)\n",
    "    num_rows = (num_boxplots + num_boxplots_per_row - 1) // num_boxplots_per_row\n",
    "\n",
    "    # Criar os subplots\n",
    "    fig = make_subplots(rows=num_rows, cols=num_boxplots_per_row, subplot_titles=titles)\n",
    "\n",
    "    # Loop para ir montando todos os gráficos em boxplot\n",
    "    for idx, column in enumerate(columns_for_boxplot):\n",
    "        row_idx = idx // num_boxplots_per_row + 1\n",
    "        col_idx = idx % num_boxplots_per_row + 1\n",
    "\n",
    "        data = data_frame[column]\n",
    "        box = go.Box(y=data, name=column)\n",
    "\n",
    "        fig.add_trace(box, row=row_idx, col=col_idx)\n",
    "\n",
    "    # Ajustando a forma\n",
    "    fig.update_layout(height=300*num_rows, showlegend=False)\n",
    "\n",
    "    # Plotar os gráficos\n",
    "    fig.show()"
   ]
  },
  {
   "cell_type": "code",
   "execution_count": null,
   "metadata": {},
   "outputs": [],
   "source": [
    "def plotar_distribuicoes(data_frame, columns_for_distribution, num_distributions_per_row=2):\n",
    "    # Calcular a quantidade\n",
    "    num_distributions = len(columns_for_distribution)\n",
    "    num_rows = ceil(num_distributions / num_distributions_per_row)\n",
    "\n",
    "    # Criar os subplots\n",
    "    fig = make_subplots(rows=num_rows, cols=num_distributions_per_row)\n",
    "\n",
    "    # Loop para ir montando todos os gráficos de distribuição\n",
    "    for idx, column in enumerate(columns_for_distribution):\n",
    "        dados = data_frame[column].dropna()  # Remover valores ausentes\n",
    "\n",
    "        # Criar o gráfico de histograma\n",
    "        histogram_data = go.Histogram(x=dados, nbinsx=30, name=f'Histograma - {column}')\n",
    "\n",
    "        # Adicionar ao subplot\n",
    "        fig.add_trace(histogram_data,\n",
    "                      row=(idx // num_distributions_per_row) + 1, col=(idx % num_distributions_per_row) + 1)\n",
    "\n",
    "    # Atualizar o layout com títulos e legendas adequadas\n",
    "    for idx, column in enumerate(columns_for_distribution):\n",
    "        row_idx = (idx // num_distributions_per_row) + 1\n",
    "        col_idx = (idx % num_distributions_per_row) + 1\n",
    "\n",
    "        # Adicionar título ao subplot\n",
    "        fig.update_xaxes(title_text=f'{column}', row=row_idx, col=col_idx)\n",
    "        fig.update_yaxes(title_text='Quantidade', row=row_idx, col=col_idx)  # Adicionar título ao eixo Y\n",
    "\n",
    "    # Ajustando a forma\n",
    "    fig.update_layout(height=300*num_rows, showlegend=False)  # Remover a legenda\n",
    "\n",
    "    # Plotar os gráficos\n",
    "    fig.show()"
   ]
  },
  {
   "cell_type": "code",
   "execution_count": null,
   "metadata": {},
   "outputs": [],
   "source": [
    "def find_correlated_columns(df, interval):\n",
    "    \"\"\"\n",
    "    Encontra e exibe as correlações entre colunas de um DataFrame.\n",
    "\n",
    "    Parâmetros:\n",
    "    - df: DataFrame pandas\n",
    "    - intervalo de correlação desejado (uma tupla de dois valores)\n",
    "\n",
    "    Retorna:\n",
    "    - Lista de tuplas representando pares de colunas correlacionadas.\n",
    "    \"\"\"\n",
    "    correlation_matrix = df.corr(numeric_only=True)\n",
    "    correlated_columns = []\n",
    "\n",
    "    # Iterar sobre as combinações de colunas para encontrar correlações\n",
    "    for i in range(len(correlation_matrix.columns)):\n",
    "        for j in range(i + 1, len(correlation_matrix.columns)):\n",
    "            corr = correlation_matrix.iloc[i, j]\n",
    "            if interval[0] <= abs(corr) <= interval[1]:\n",
    "                col1 = correlation_matrix.columns[i]\n",
    "                col2 = correlation_matrix.columns[j]\n",
    "                correlated_columns.append((col1, col2))\n",
    "                print(f\"Correlação entre {col1} e {col2}: {corr}\")\n",
    "\n",
    "    # Plotar um mapa de calor da matriz de correlação\n",
    "    plt.figure(figsize=(20, 16))\n",
    "    sns.heatmap(correlation_matrix, annot=True, cmap='BrBG')\n",
    "    plt.title('Matriz de Correlação')\n",
    "    plt.xlabel('Variáveis')\n",
    "    plt.ylabel('Variáveis')\n",
    "    plt.show()\n",
    "\n",
    "    return correlated_columns"
   ]
  },
  {
   "cell_type": "code",
   "execution_count": null,
   "metadata": {},
   "outputs": [],
   "source": [
    "def correlacao_com_variavel_alvo(df, target_variable, nivel=\"forte\", top_n=5):\n",
    "    \"\"\"\n",
    "    Imprime as n features com as maiores correlações com uma variável alvo, com base no nível escolhido.\n",
    "\n",
    "    Parâmetros:\n",
    "    - df: DataFrame pandas.\n",
    "    - target_variable: String, nome da variável alvo.\n",
    "    - nivel: String que define o critério de correlação (\"forte\", \"fraca\", etc.).\n",
    "    - top_n: Número inteiro, quantidade de features a serem impressas.\n",
    "\n",
    "    Retorna:\n",
    "    - Nenhum (imprime as correlações).\n",
    "    \"\"\"\n",
    "    correlation_matrix = df.corr(numeric_only=True)\n",
    "\n",
    "    # Filtra as correlações com base no nível escolhido\n",
    "    if nivel.lower() == \"forte\":\n",
    "        filtered_correlations = correlation_matrix[((correlation_matrix >= 0.7) & (correlation_matrix < 1.0)) | ((correlation_matrix <= -0.7) & (correlation_matrix > -1.0))]\n",
    "    else:\n",
    "        raise ValueError(\"Nível não suportado. Atualmente, apenas 'forte' é suportado.\")\n",
    "\n",
    "    # Filtra as correlações com a variável alvo\n",
    "    correlations_with_target = filtered_correlations[target_variable].sort_values(ascending=False)\n",
    "\n",
    "    # Pegar as n maiores correlações\n",
    "    top_n_correlations = correlations_with_target.head(top_n)\n",
    "\n",
    "    # Imprimir as n maiores correlações com a variável alvo\n",
    "    print(f\"As {top_n} maiores correlações com '{target_variable}' ({nivel}):\")\n",
    "    for feature, correlation in top_n_correlations.items():\n",
    "        print(f\"{feature}: {correlation}\")\n"
   ]
  },
  {
   "cell_type": "markdown",
   "metadata": {},
   "source": [
    "# Análise Exploratória"
   ]
  },
  {
   "cell_type": "code",
   "execution_count": null,
   "metadata": {},
   "outputs": [],
   "source": [
    "df = pd.read_csv('base_limpa.csv', index_col=0)\n",
    "df.tail(2)\n"
   ]
  },
  {
   "cell_type": "code",
   "execution_count": null,
   "metadata": {},
   "outputs": [],
   "source": [
    "df['order_date'] = pd.to_datetime(df['order_date'])\n",
    "df_date = df.copy()\n",
    "\n",
    "# Criando colunas para facilitar análises\n",
    "df_date['minute'] = df['order_date'].dt.minute\n",
    "df_date['hour'] = df['order_date'].dt.hour\n",
    "df_date['day'] = df['order_date'].dt.day\n",
    "df_date['month'] = df['order_date'].dt.month\n",
    "df_date['year'] = df['order_date'].dt.year\n",
    "df_date['weekday'] = df['order_date'].dt.weekday # Domingo é 0"
   ]
  },
  {
   "cell_type": "code",
   "execution_count": null,
   "metadata": {},
   "outputs": [],
   "source": [
    "x_plot = 'hour'\n",
    "plt.figure(figsize=(10,6))\n",
    "sns.countplot(x=x_plot, data=df_date, palette='viridis', hue='order_status')\n",
    "plt.xlabel('Horário do Dia')\n",
    "plt.ylabel('Pedidos')\n",
    "plt.title('Quantidade de Pedidos por Horário do Dia')\n",
    "plt.show()"
   ]
  },
  {
   "cell_type": "code",
   "execution_count": null,
   "metadata": {},
   "outputs": [],
   "source": [
    "x_plot = 'hour'\n",
    "\n",
    "plt.figure(figsize=(10,6))\n",
    "#sns.countplot(x=x_plot, data=df, hue=x_plot, legend=False, palette='viridis')\n",
    "sns.countplot(x=x_plot, data=df_date)\n",
    "plt.xlabel('Horário do Dia')\n",
    "plt.ylabel('Pedidos')\n",
    "plt.title('Quantidade de Pedidos por Horário do Dia')\n",
    "plt.show()"
   ]
  },
  {
   "cell_type": "code",
   "execution_count": null,
   "metadata": {},
   "outputs": [],
   "source": [
    "x_plot = 'weekday'\n",
    "\n",
    "plt.figure(figsize=(10,6))\n",
    "sns.countplot(x=x_plot, data=df_date, hue='store_segment')\n",
    "plt.xlabel('Dia da Semana (Início no Domingo)')\n",
    "plt.ylabel('Pedidos')\n",
    "plt.title('Quantidade de Pedidos por Dia da Semana divido por Segmento de Lojas')\n",
    "plt.show()"
   ]
  },
  {
   "cell_type": "code",
   "execution_count": null,
   "metadata": {},
   "outputs": [],
   "source": [
    "x_plot = 'weekday'\n",
    "\n",
    "plt.figure(figsize=(10,6))\n",
    "#sns.countplot(x=x_plot, data=df, hue=x_plot, legend=False, palette='viridis')\n",
    "sns.countplot(x=x_plot, data=df_date, hue='hub_state')\n",
    "plt.xlabel('Dia da Semana (Início no Domingo)')\n",
    "plt.ylabel('Pedidos')\n",
    "plt.title('Quantidade de Pedidos por Dia da Semana em Diferentes Estados')\n",
    "plt.show()"
   ]
  },
  {
   "cell_type": "code",
   "execution_count": null,
   "metadata": {},
   "outputs": [],
   "source": [
    "x_plot = 'weekday'\n",
    "\n",
    "plt.figure(figsize=(10,6))\n",
    "sns.countplot(x=x_plot, data=df_date[df_date['delivery_status'].eq('CANCELLED')], hue='delivery_status')\n",
    "plt.xlabel('Dia da Semana (Início no Domingo)')\n",
    "plt.ylabel('Pedidos')\n",
    "plt.title('Cancelamentos por Dias da Semana')\n",
    "plt.show()"
   ]
  },
  {
   "cell_type": "code",
   "execution_count": null,
   "metadata": {},
   "outputs": [],
   "source": [
    "x_plot = 'weekday'\n",
    "\n",
    "plt.figure(figsize=(10,6))\n",
    "sns.countplot(x=x_plot, data=df_date[~df_date['delivery_status'].eq('DELIVERING')], hue='delivery_status')\n",
    "plt.xlabel('Dia da Semana (Início no Domingo)')\n",
    "plt.ylabel('Pedidos')\n",
    "plt.title('Pedidos por Dias da Semana')\n",
    "plt.show()"
   ]
  },
  {
   "cell_type": "code",
   "execution_count": null,
   "metadata": {},
   "outputs": [],
   "source": [
    "x_plot = 'payment_method'\n",
    "y_plot = 'payment_amount'\n",
    "\n",
    "plt.figure(figsize=(20,6))\n",
    "sns.barplot(x=x_plot, y=y_plot, data=df_date)\n",
    "plt.xlabel('Métodos de Pagamento')\n",
    "plt.xticks(rotation=-90)\n",
    "plt.ylabel('Quantia de Pagamento')\n",
    "plt.title('Quantia de Pagamento por Método de Pagamento')\n",
    "plt.show()"
   ]
  },
  {
   "cell_type": "markdown",
   "metadata": {},
   "source": [
    "# Análise de Correlações com a Variável-Alvo"
   ]
  },
  {
   "cell_type": "code",
   "execution_count": null,
   "metadata": {},
   "outputs": [],
   "source": [
    "'''Separando dados numéricos e categóricos '''\n",
    "numeric_cols = df.select_dtypes(['float','int']).columns\n",
    "categoric_cols = df.select_dtypes('object').columns\n",
    "\n",
    "df_numeric = df[numeric_cols]\n",
    "df_categoric = df[categoric_cols]"
   ]
  },
  {
   "cell_type": "code",
   "execution_count": null,
   "metadata": {},
   "outputs": [],
   "source": [
    "df_numeric.corr()['order_metric_cycle_time'].sort_values(ascending=False)"
   ]
  },
  {
   "cell_type": "code",
   "execution_count": null,
   "metadata": {},
   "outputs": [],
   "source": [
    "y_plot = 'order_metric_cycle_time'\n",
    "x_plot = 'delivery_distance_meters'\n",
    "\n",
    "plt.figure(figsize=(10,6))\n",
    "sns.scatterplot(x=x_plot,y=y_plot, data=df)\n",
    "plt.xlabel('Tempo de Entrega')\n",
    "plt.ylabel('Distância de Entrega')\n",
    "plt.title('Distância por Tempo de Entrega')\n",
    "plt.show()"
   ]
  },
  {
   "cell_type": "code",
   "execution_count": null,
   "metadata": {},
   "outputs": [],
   "source": [
    "y_plot = 'order_metric_cycle_time'\n",
    "x_plot = 'order_amount'\n",
    "\n",
    "plt.figure(figsize=(10,6))\n",
    "sns.scatterplot(x=x_plot,y=y_plot, data=df, hue='store_segment')\n",
    "plt.ylabel('Tempo de Entrega')\n",
    "plt.xlabel('Quantia do Pedido')\n",
    "plt.title('Tempo de Entrega por Quantia do Pedido')\n",
    "plt.show()"
   ]
  },
  {
   "cell_type": "code",
   "execution_count": null,
   "metadata": {},
   "outputs": [],
   "source": [
    "y_plot = 'order_metric_cycle_time'\n",
    "x_plot = 'weekday'\n",
    "\n",
    "plt.figure(figsize=(10,6))\n",
    "sns.barplot(x=x_plot,y=y_plot, data=df_date)\n",
    "plt.xlabel('Dia da Semana')\n",
    "plt.ylabel('Tempo Médio de Entrega')\n",
    "plt.title('Tempo Médio de Entrega por Dia da Semana')\n",
    "plt.show()"
   ]
  },
  {
   "cell_type": "code",
   "execution_count": null,
   "metadata": {},
   "outputs": [],
   "source": [
    "x_plot = 'order_metric_cycle_time'\n",
    "y_plot = 'hub_state'\n",
    "\n",
    "plt.figure(figsize=(10,6))\n",
    "sns.barplot(x=x_plot,y=y_plot, data=df_date, orient='h')\n",
    "plt.ylabel('Estado')\n",
    "plt.xlabel('Tempo Médio de Entrega')\n",
    "plt.title('Tempo Médio de Entrega por Estado')\n",
    "plt.show()"
   ]
  },
  {
   "cell_type": "code",
   "execution_count": null,
   "metadata": {},
   "outputs": [],
   "source": [
    "x_plot = 'order_metric_cycle_time'\n",
    "y_plot = 'hub_name'\n",
    "\n",
    "plt.figure(figsize=(10,6))\n",
    "sns.barplot(x=x_plot,y=y_plot, data=df_date, orient='h')\n",
    "plt.ylabel('Estado')\n",
    "plt.xlabel('Tempo Médio de Entrega')\n",
    "plt.title('Tempo Médio de Entrega por Local de Distribuição')\n",
    "plt.show()"
   ]
  },
  {
   "cell_type": "code",
   "execution_count": null,
   "metadata": {},
   "outputs": [],
   "source": [
    "y_plot = 'order_metric_cycle_time'\n",
    "x_plot = 'store_segment'\n",
    "\n",
    "plt.figure(figsize=(10,6))\n",
    "sns.barplot(x=x_plot,y=y_plot, data=df_date)\n",
    "plt.xlabel('Segmento')\n",
    "plt.ylabel('Tempo Médio de Entrega')\n",
    "plt.title('Tempo Médio de Entrega por Segmento')\n",
    "plt.show()"
   ]
  },
  {
   "cell_type": "code",
   "execution_count": null,
   "metadata": {},
   "outputs": [],
   "source": [
    "y_plot = 'order_metric_cycle_time'\n",
    "x_plot = 'store_segment'\n",
    "\n",
    "plt.figure(figsize=(10,6))\n",
    "sns.barplot(x=x_plot,y=y_plot, data=df_date, hue='hub_state')\n",
    "plt.xlabel('Segmento')\n",
    "plt.ylabel('Tempo Médio de Entrega')\n",
    "plt.title('Tempo Médio de Entrega por Segmento')\n",
    "plt.show()"
   ]
  },
  {
   "cell_type": "code",
   "execution_count": null,
   "metadata": {},
   "outputs": [],
   "source": [
    "y_plot = 'order_metric_cycle_time'\n",
    "x_plot = 'driver_modal'\n",
    "\n",
    "plt.figure(figsize=(10,6))\n",
    "sns.barplot(x=x_plot,y=y_plot, data=df_date)\n",
    "plt.xlabel('DRIVER_MODAL')\n",
    "plt.ylabel('Tempo Médio de Entrega')\n",
    "plt.title('Tempo Médio de Entrega por DRIVER_MODAL')\n",
    "plt.show()"
   ]
  },
  {
   "cell_type": "code",
   "execution_count": null,
   "metadata": {},
   "outputs": [],
   "source": [
    "y_plot = 'order_metric_cycle_time'\n",
    "x_plot = 'driver_modal'\n",
    "\n",
    "plt.figure(figsize=(10,6))\n",
    "sns.barplot(x=x_plot,y=y_plot, data=df_date, hue='hub_state')\n",
    "plt.xlabel('DRIVER_MODAL')\n",
    "plt.ylabel('Tempo Médio de Entrega')\n",
    "plt.title('Tempo Médio de Entrega por DRIVER_MODAL')\n",
    "plt.show()"
   ]
  },
  {
   "cell_type": "code",
   "execution_count": null,
   "metadata": {},
   "outputs": [],
   "source": [
    "x_plot = 'order_metric_cycle_time'\n",
    "y_plot = 'channel_type'\n",
    "\n",
    "plt.figure(figsize=(10,6))\n",
    "sns.barplot(x=x_plot,y=y_plot, data=df_date, orient='h')\n",
    "plt.ylabel('Tipo de Canal')\n",
    "plt.xlabel('Tempo Médio de Entrega')\n",
    "plt.title('Tempo Médio de Entrega por Tipo de Canal')\n",
    "plt.show()"
   ]
  },
  {
   "cell_type": "code",
   "execution_count": null,
   "metadata": {},
   "outputs": [],
   "source": [
    "x_plot = 'order_metric_cycle_time'\n",
    "y_plot = 'channel_type'\n",
    "\n",
    "plt.figure(figsize=(10,6))\n",
    "sns.barplot(x=x_plot,y=y_plot, data=df_date, orient='h', hue='hub_state')\n",
    "plt.ylabel('Tipo de Canal')\n",
    "plt.xlabel('Tempo Médio de Entrega')\n",
    "plt.title('Tempo Médio de Entrega por Tipo de Canal')\n",
    "plt.show()"
   ]
  },
  {
   "cell_type": "code",
   "execution_count": null,
   "metadata": {},
   "outputs": [],
   "source": [
    "df.columns"
   ]
  },
  {
   "cell_type": "code",
   "execution_count": null,
   "metadata": {},
   "outputs": [],
   "source": [
    "corr_interval = (0.7, 1.0)\n",
    "find_correlated_columns(df_numeric, corr_interval)"
   ]
  },
  {
   "cell_type": "code",
   "execution_count": null,
   "metadata": {},
   "outputs": [],
   "source": [
    "corr_interval = (-1, -0.7)\n",
    "find_correlated_columns(df_numeric, corr_interval)"
   ]
  },
  {
   "cell_type": "code",
   "execution_count": null,
   "metadata": {},
   "outputs": [],
   "source": [
    "plt.figure(figsize=(20, 16))\n",
    "sns.heatmap(df_numeric.corr(),annot=True, vmin=-1, vmax=1,cmap='BrBG') \n",
    "plt.show()"
   ]
  }
 ],
 "metadata": {
  "kernelspec": {
   "display_name": "Python 3",
   "language": "python",
   "name": "python3"
  },
  "language_info": {
   "codemirror_mode": {
    "name": "ipython",
    "version": 3
   },
   "file_extension": ".py",
   "mimetype": "text/x-python",
   "name": "python",
   "nbconvert_exporter": "python",
   "pygments_lexer": "ipython3",
   "version": "3.12.0"
  }
 },
 "nbformat": 4,
 "nbformat_minor": 2
}
